{
 "cells": [
  {
   "attachments": {},
   "cell_type": "markdown",
   "metadata": {},
   "source": [
    "### Exercise 2: Pysam - CGC Interactive analysis\n",
    "\n",
    "1. [x] Create an AlignmentFile object for “merged-tumor.bam” from Public files gallery\n",
    "    1. [x] Take the first read from the AlignmentFile\n",
    "    2. [x] Inspect the fields in the AlignedSegment\n",
    "    3. [x] Inspect the flag field\n",
    "    4. [x] Check out the [flag for some reads](https://broadinstitute.github.io/picard/explain-flags.html)\n",
    "2. [x] Calculate:\n",
    "    1. [x] How many unmapped reads are in the file?\n",
    "    2. [x] Total number of reads\n",
    "    3. [x] Number of reads with mapping quality 0\n",
    "    4. [x] Average mapping quality for all the reads\n",
    "    5. [x] Average mapping quality if reads with 0 map quality are filtered out\n",
    "3. [x] Send the link to Github repo with Jupyter Notebook of executed analysis to pedjao@etf.bg.ac.rs,<br>\n",
    "      together with name and number of index, the mail subject should be “GI2023_DZ2”. Deadline: 26th of March, 23:59\n",
    "\n",
    "Links:\n",
    "[Pysam](https://pysam.readthedocs.io/en/latest/api.html)\n",
    "[Bam_file_format](https://support.illumina.com/help/BS_App_RNASeq_Alignment_OLH_1000000006112/Content/Source/Informatics/BAM-Format.htm)"
   ]
  },
  {
   "attachments": {},
   "cell_type": "markdown",
   "metadata": {},
   "source": [
    "___\n",
    "1."
   ]
  },
  {
   "cell_type": "code",
   "execution_count": 4,
   "metadata": {},
   "outputs": [
    {
     "name": "stdout",
     "output_type": "stream",
     "text": [
      "First 10 runs:\n",
      "_____________________\n",
      "Read 0: fields: C0HVYACXX120402:7:1207:5722:57044\t1187\t#20\t9483249\t27\t76M\t#20\t9483382\t209\tTTTTCAAACAGTATCTATGCCTGCCAAATGTGAACATATAAAAAAAAACCAGAATGTGCCATTCTGATTTAAACTG\tarray('B', [28, 28, 27, 29, 31, 30, 31, 31, 29, 31, 35, 30, 29, 31, 34, 30, 29, 23, 41, 32, 20, 30, 29, 34, 34, 29, 30, 31, 30, 30, 30, 33, 33, 26, 39, 12, 25, 19, 32, 30, 35, 28, 35, 33, 23, 33, 35, 36, 30, 38, 33, 41, 34, 35, 31, 33, 23, 30, 30, 36, 27, 32, 29, 34, 35, 41, 33, 31, 33, 29, 32, 32, 31, 31, 31, 34])\t[('XA', 'GL000217.1,-110754,76M,1;'), ('BD', 'NNNNNNNNNNNNNNNNNNNNNNNNNNNNNNNNNNNNNNNNNNNNNNNNNNNNNNNNNNNNNNNNNNNNNNNNNNNN'), ('MD', '76'), ('RG', '1'), ('BI', 'NNNNNNNNNNNNNNNNNNNNNNNNNNNNNNNNNNNNNNNNNNNNNNNNNNNNNNNNNNNNNNNNNNNNNNNNNNNN'), ('NM', 0), ('MQ', 27), ('AS', 76), ('XS', 71)]\n",
      "Read 0: flag:   1187\n",
      "Read 1: fields: D0RE2ACXX120401:1:2105:2631:113383\t163\t#20\t9483249\t27\t76M\t#20\t9483382\t209\tTTTTCAAACAGTATCTATGCCTGCCAAATGTGAACATATAAAAAAAAACCAGAATGTGCCATTCTGATTTAAACTG\tarray('B', [28, 29, 27, 30, 31, 30, 31, 31, 34, 31, 40, 30, 29, 34, 41, 34, 29, 33, 39, 40, 37, 36, 30, 39, 36, 34, 29, 35, 26, 41, 31, 33, 31, 35, 39, 34, 34, 29, 34, 31, 36, 37, 35, 35, 33, 35, 36, 35, 40, 37, 34, 39, 30, 29, 28, 15, 19, 30, 36, 36, 36, 33, 33, 38, 34, 37, 33, 30, 33, 33, 29, 34, 32, 30, 31, 29])\t[('XA', 'GL000217.1,-110754,76M,1;'), ('BD', 'NNNNNNNNNNNNNNNNNNNNNNNNNNNNNNNNNNNNNNNNNNNNNNNNNNNNNNNNNNNNNNNNNNNNNNNNNNNN'), ('MD', '76'), ('RG', '1'), ('BI', 'NNNNNNNNNNNNNNNNNNNNNNNNNNNNNNNNNNNNNNNNNNNNNNNNNNNNNNNNNNNNNNNNNNNNNNNNNNNN'), ('NM', 0), ('MQ', 27), ('AS', 76), ('XS', 71)]\n",
      "Read 1: flag:   163\n",
      "Read 2: fields: C0HVYACXX120402:5:1304:16767:148118\t99\t#20\t9483250\t27\t76M\t#20\t9483361\t187\tTTTCAAACAGTATCTATGCCTGCCAAATGTGAACATATAAAAAAAAACCAGAATGTGCCATTCTGATTTAAACTGC\tarray('B', [32, 28, 28, 33, 31, 35, 36, 38, 31, 42, 21, 32, 29, 37, 35, 31, 32, 41, 40, 37, 36, 40, 40, 38, 34, 37, 36, 33, 41, 31, 41, 34, 36, 40, 35, 33, 32, 32, 32, 37, 37, 35, 37, 37, 36, 37, 35, 40, 38, 35, 41, 35, 37, 32, 41, 31, 36, 39, 37, 33, 32, 34, 38, 37, 39, 34, 31, 35, 33, 31, 35, 34, 35, 30, 29, 34])\t[('XA', 'GL000217.1,-110753,76M,1;'), ('BD', 'NNNNNNNNNNNNNNNNNNNNNNNNNNNNNNNNNNNNNNNNNNNNNNNNNNNNNNNNNNNNNNNNNNNNNNNNNNNN'), ('MD', '76'), ('RG', '1'), ('BI', 'NNNNNNNNNNNNNNNNNNNNNNNNNNNNNNNNNNNNNNNNNNNNNNNNNNNNNNNNNNNNNNNNNNNNNNNNNNNN'), ('NM', 0), ('MQ', 27), ('AS', 76), ('XS', 71)]\n",
      "Read 2: flag:   99\n",
      "Read 3: fields: C0HVYACXX120402:8:1101:6314:155036\t99\t#20\t9483264\t51\t76M\t#20\t9483294\t106\tTATGCCTGCCAAATGTGAACATATAAAAAAAAACCAGAATGTGCCATTCTGATTTAAACTGCTTATTAGTTAAAAC\tarray('B', [32, 29, 28, 34, 36, 37, 36, 42, 38, 37, 34, 36, 36, 31, 40, 31, 42, 34, 36, 40, 34, 33, 31, 33, 30, 36, 35, 37, 35, 36, 36, 36, 36, 40, 37, 34, 42, 34, 36, 33, 41, 33, 41, 40, 37, 35, 32, 34, 41, 36, 41, 35, 32, 35, 34, 31, 37, 37, 39, 37, 43, 39, 37, 31, 31, 31, 33, 31, 41, 30, 34, 31, 32, 30, 31, 34])\t[('XA', 'GL000217.1,-110739,76M,1;'), ('BD', 'NNNNNNNNNNNNNNNNNNNNNNNNNNNNNNNNNNNNNNNNNNNNNNNNNNNNNNNNNNNNNNNNNNNNNNNNNNNN'), ('MD', '76'), ('RG', '1'), ('BI', 'NNNNNNNNNNNNNNNNNNNNNNNNNNNNNNNNNNNNNNNNNNNNNNNNNNNNNNNNNNNNNNNNNNNNNNNNNNNN'), ('NM', 0), ('MQ', 49), ('AS', 76), ('XS', 71)]\n",
      "Read 3: flag:   99\n",
      "Read 4: fields: D0RE2ACXX120401:4:2106:2222:188475\t99\t#20\t9483267\t27\t76M\t#20\t9483344\t153\tGCCTGCCAAATGTGAACATATAAAAAAAAACCAGAATGTGCCATTCTGATTTAAACTGCTTATTAGTTAAAACCCT\tarray('B', [32, 32, 31, 33, 36, 37, 37, 35, 35, 36, 31, 41, 31, 36, 33, 36, 41, 34, 31, 31, 31, 32, 36, 35, 36, 37, 36, 35, 35, 36, 41, 37, 34, 39, 34, 36, 31, 41, 31, 40, 40, 37, 35, 33, 33, 41, 36, 41, 33, 31, 34, 35, 32, 37, 37, 40, 37, 40, 39, 37, 31, 30, 32, 31, 31, 36, 31, 35, 32, 37, 35, 35, 35, 30, 31, 34])\t[('XA', 'GL000217.1,-110736,76M,1;'), ('BD', 'NNNNNNNNNNNNNNNNNNNNNNNNNNNNNNNNNNNNNNNNNNNNNNNNNNNNNNNNNNNNNNNNNNNNNNNNNNNN'), ('MD', '76'), ('RG', '1'), ('BI', 'NNNNNNNNNNNNNNNNNNNNNNNNNNNNNNNNNNNNNNNNNNNNNNNNNNNNNNNNNNNNNNNNNNNNNNNNNNNN'), ('NM', 0), ('MQ', 27), ('AS', 76), ('XS', 71)]\n",
      "Read 4: flag:   99\n",
      "Read 5: fields: C0HVYACXX120402:7:2104:3109:85401\t163\t#20\t9483270\t27\t76M\t#20\t9483314\t120\tTGCCAAATGTGAACATATAAAAAAAAACCAGAATGTGCCATTCTGATTTAAACTGCTTATTAGTTAAAACCCTCAA\tarray('B', [28, 22, 28, 32, 30, 33, 34, 32, 40, 31, 39, 31, 35, 41, 33, 33, 29, 33, 29, 35, 34, 34, 34, 35, 34, 34, 35, 41, 34, 33, 40, 34, 36, 33, 41, 33, 41, 40, 38, 33, 34, 34, 42, 36, 40, 34, 33, 34, 34, 31, 35, 37, 41, 36, 41, 40, 38, 34, 33, 33, 34, 31, 42, 33, 33, 32, 35, 36, 35, 39, 37, 35, 32, 31, 31, 32])\t[('XA', 'GL000217.1,-110733,76M,1;'), ('BD', 'NNNNNNNNNNNNNNNNNNNNNNNNNNNNNNNNNNNNNNNNNNNNNNNNNNNNNNNNNNNNNNNNNNNNNNNNNNNN'), ('MD', '76'), ('RG', '1'), ('BI', 'NNNNNNNNNNNNNNNNNNNNNNNNNNNNNNNNNNNNNNNNNNNNNNNNNNNNNNNNNNNNNNNNNNNNNNNNNNNN'), ('NM', 0), ('MQ', 27), ('AS', 76), ('XS', 71)]\n",
      "Read 5: flag:   163\n",
      "Read 6: fields: C0HVYACXX120402:3:1307:14105:43830\t99\t#20\t9483279\t27\t76M\t#20\t9483392\t189\tTGAACATATAAAAAAAAACCAGAATGTGCCATTCTGATTTAAACTGCTTATTAGTTAAAACCCTCAAGATAACATC\tarray('B', [32, 30, 30, 33, 36, 35, 31, 33, 30, 31, 36, 36, 36, 36, 36, 36, 36, 36, 40, 36, 34, 40, 34, 37, 31, 41, 31, 39, 40, 37, 35, 31, 35, 42, 36, 42, 33, 32, 34, 34, 32, 37, 37, 41, 36, 41, 39, 36, 34, 32, 33, 35, 32, 41, 31, 35, 32, 37, 37, 35, 41, 38, 37, 37, 38, 33, 37, 38, 32, 31, 31, 33, 35, 30, 31, 35])\t[('XA', 'GL000217.1,-110724,76M,1;'), ('BD', 'NNNNNNNNNNNNNNNNNNNNNNNNNNNNNNNNNNNNNNNNNNNNNNNNNNNNNNNNNNNNNNNNNNNNNNNNNNNN'), ('MD', '76'), ('RG', '1'), ('BI', 'NNNNNNNNNNNNNNNNNNNNNNNNNNNNNNNNNNNNNNNNNNNNNNNNNNNNNNNNNNNNNNNNNNNNNNNNNNNN'), ('NM', 0), ('MQ', 27), ('AS', 76), ('XS', 71)]\n",
      "Read 6: flag:   99\n",
      "Read 7: fields: D0RH0ACXX120402:2:2211:20196:13130\t1123\t#20\t9483279\t27\t76M\t#20\t9483392\t189\tTGAACATATAAAAAAAAACCAGAATGTGCCATTCTGATTTAAACTGCTTATTAGTTAAAACCCTCAAGATAACATC\tarray('B', [31, 31, 27, 30, 34, 35, 31, 33, 30, 31, 36, 28, 36, 32, 36, 36, 36, 36, 40, 37, 34, 36, 34, 35, 31, 39, 31, 39, 40, 37, 35, 32, 34, 34, 36, 40, 31, 31, 34, 34, 31, 37, 37, 41, 36, 41, 39, 36, 34, 32, 31, 35, 32, 38, 31, 31, 31, 37, 37, 37, 37, 34, 37, 37, 38, 33, 35, 39, 32, 31, 31, 33, 33, 30, 31, 32])\t[('XA', 'GL000217.1,-110724,76M,1;'), ('BD', 'NNNNNNNNNNNNNNNNNNNNNNNNNNNNNNNNNNNNNNNNNNNNNNNNNNNNNNNNNNNNNNNNNNNNNNNNNNNN'), ('MD', '76'), ('RG', '1'), ('BI', 'NNNNNNNNNNNNNNNNNNNNNNNNNNNNNNNNNNNNNNNNNNNNNNNNNNNNNNNNNNNNNNNNNNNNNNNNNNNN'), ('NM', 0), ('MQ', 27), ('AS', 76), ('XS', 71)]\n",
      "Read 7: flag:   1123\n",
      "Read 8: fields: D0RE2ACXX120401:1:1201:14782:65302\t99\t#20\t9483280\t27\t76M\t#20\t9483401\t197\tGAACATATAAAAAAAAACCAGAATGTGCCATTCTGATTTAAACTGCTTATTAGTTAAAACCCTCAAGATAACATCT\tarray('B', [31, 31, 30, 33, 34, 31, 32, 31, 30, 36, 36, 36, 33, 36, 36, 36, 31, 34, 35, 34, 35, 33, 33, 32, 36, 22, 34, 38, 38, 32, 31, 34, 32, 35, 40, 33, 34, 34, 34, 30, 37, 35, 40, 34, 33, 40, 35, 34, 32, 31, 34, 32, 41, 32, 35, 32, 37, 37, 37, 39, 37, 37, 35, 38, 35, 37, 40, 32, 31, 31, 31, 37, 31, 29, 31, 33])\t[('XA', 'GL000217.1,-110723,76M,1;'), ('BD', 'NNNNNNNNNNNNNNNNNNNNNNNNNNNNNNNNNNNNNNNNNNNNNNNNNNNNNNNNNNNNNNNNNNNNNNNNNNNN'), ('MD', '76'), ('RG', '1'), ('BI', 'NNNNNNNNNNNNNNNNNNNNNNNNNNNNNNNNNNNNNNNNNNNNNNNNNNNNNNNNNNNNNNNNNNNNNNNNNNNN'), ('NM', 0), ('MQ', 27), ('AS', 76), ('XS', 71)]\n",
      "Read 8: flag:   99\n",
      "Read 9: fields: D0RE2ACXX120401:7:1304:12042:51117\t1123\t#20\t9483280\t27\t76M\t#20\t9483401\t197\tGAACATATAAAAAAAAACCAGAATGTGCCATTCTGATTTAAACTGCTTATTAGTTAAAACCCTCAAGATAACATCT\tarray('B', [32, 31, 30, 33, 34, 31, 32, 31, 31, 36, 36, 36, 36, 32, 35, 33, 36, 40, 35, 31, 40, 34, 36, 32, 40, 31, 41, 36, 36, 35, 32, 34, 41, 36, 41, 33, 33, 34, 35, 32, 37, 35, 40, 36, 41, 38, 36, 34, 32, 33, 34, 32, 41, 31, 31, 32, 37, 37, 37, 41, 38, 38, 37, 38, 35, 35, 40, 31, 32, 31, 36, 36, 32, 29, 32, 33])\t[('XA', 'GL000217.1,-110723,76M,1;'), ('BD', 'NNNNNNNNNNNNNNNNNNNNNNNNNNNNNNNNNNNNNNNNNNNNNNNNNNNNNNNNNNNNNNNNNNNNNNNNNNNN'), ('MD', '76'), ('RG', '1'), ('BI', 'NNNNNNNNNNNNNNNNNNNNNNNNNNNNNNNNNNNNNNNNNNNNNNNNNNNNNNNNNNNNNNNNNNNNNNNNNNNN'), ('NM', 0), ('MQ', 27), ('AS', 76), ('XS', 71)]\n",
      "Read 9: flag:   1123\n"
     ]
    }
   ],
   "source": [
    "import pysam\n",
    "alignfile = pysam.AlignmentFile(\"resrc/merged-tumor.bam\", \"rb\")\n",
    "sampled_runs_cnt = 10\n",
    "\n",
    "i = 0\n",
    "print( f\"First {sampled_runs_cnt} runs:\" )\n",
    "print( f\"_____________________\" )\n",
    "for read in alignfile.fetch(until_eof=True):\n",
    "    print( f\"Read {i}: fields: {read}\" )\n",
    "    print( f\"Read {i}: flag:   {read.flag}\" )\n",
    "\n",
    "    i += 1\n",
    "    if i == sampled_runs_cnt:\n",
    "        break\n",
    "\n",
    "alignfile.close()"
   ]
  },
  {
   "attachments": {},
   "cell_type": "markdown",
   "metadata": {},
   "source": [
    "Read 0 [sam flags](https://broadinstitute.github.io/picard/explain-flags.html):\n",
    "\n",
    "![First read flags: 1187](./resrc/Slika%2001.png)"
   ]
  },
  {
   "cell_type": "code",
   "execution_count": 5,
   "metadata": {},
   "outputs": [],
   "source": [
    "# aend: 9483324\n",
    "# alen: 76\n",
    "# aligned_pairs: [(0, 9483248), (1, 9483249), (2, 9483250), (3, 9483251), (4, 9483252), (5, 9483253), (6, 9483254), (7, 9483255), (8, 9483256), (9, 9483257), (10, 9483258), (11, 9483259), (12, 9483260), (13, 9483261), ...]\n",
    "# bin: 5259\n",
    "# blocks: [(9483248, 9483324)]\n",
    "# cigar: [(0, 76)]\n",
    "# cigarstring: '76M'\n",
    "# cigartuples: [(0, 76)]\n",
    "# flag: 1187\n",
    "# header: <pysam.libcalignmentfile.AlignmentHeader object at 0x7f8568025890>\n",
    "# inferred_length: 76\n",
    "# is_duplicate: True\n",
    "# is_forward: True\n",
    "# is_mapped: True\n",
    "# is_paired: True\n",
    "# is_proper_pair: True\n",
    "# is_qcfail: False\n",
    "# is_read1: False\n",
    "# is_read2: True\n",
    "# is_reverse: False\n",
    "# is_secondary: False\n",
    "# is_supplementary: False\n",
    "# is_unmapped: False\n",
    "# isize: 209\n",
    "# mapping_quality: 27\n",
    "# mapq: 27\n",
    "# mate_is_forward: False\n",
    "# mate_is_mapped: True\n",
    "# mate_is_reverse: True\n",
    "# mate_is_unmapped: False\n",
    "# modified_bases: {}\n",
    "# modified_bases_forward: {}\n",
    "# mpos: 9483381\n",
    "# mrnm: 20\n",
    "# next_reference_id: 20\n",
    "# next_reference_name: '21'\n",
    "# next_reference_start: 9483381\n",
    "# pnext: 9483381\n",
    "# pos: 9483248\n",
    "# positions: [9483248, 9483249, 9483250, 9483251, 9483252, 9483253, 9483254, 9483255, 9483256, 9483257, 9483258, 9483259, 9483260, 9483261, ...]\n",
    "# qend: 76\n",
    "# qlen: 76\n",
    "# qname: 'C0HVYACXX120402:7:1207:5722:57044'\n",
    "# qqual: '==<>@?@@>@D?>@C?>8JA5?>CC>?@???BB;H-:4A?D=DB8BDE?GBJCD@B8??E<A>CDJB@B>AA@@@C'\n",
    "# qstart: 0\n",
    "# qual: '==<>@?@@>@D?>@C?>8JA5?>CC>?@???BB;H-:4A?D=DB8BDE?GBJCD@B8??E<A>CDJB@B>AA@@@C'\n",
    "# query: 'TTTTCAAACAGTATCTATGCCTGCCAAATGTGAACATATAAAAAAAAACCAGAATGTGCCATTCTGATTTAAACTG'\n",
    "# query_alignment_end: 76\n",
    "# query_alignment_length: 76\n",
    "# query_alignment_qualities: array('B', [28, 28, 27, 29, 31, 30, 31, 31, 29, 31, 35, 30, 29, 31, 34, 30, 29, 23, 41, 32, 20, 30, 29, 34, 34, 29, 30, 31, 30, 30, 30, 33, 33, 26, 39, 12, 25, 19, 32, 30, 35, 28, 35, 33, 23, 33, 35, 36, 30, 38, 33, 41, 34, 35, 31, 33, 23, 30, 30, 36, 27, 32, 29, 34, 35, 41, 33, 31, 33, 29, 32, 32, 31, 31, 31, 34])\n",
    "# query_alignment_sequence: 'TTTTCAAACAGTATCTATGCCTGCCAAATGTGAACATATAAAAAAAAACCAGAATGTGCCATTCTGATTTAAACTG'\n",
    "# query_alignment_start: 0\n",
    "# query_length: 76\n",
    "# query_name: 'C0HVYACXX120402:7:1207:5722:57044'\n",
    "# query_qualities: array('B', [28, 28, 27, 29, 31, 30, 31, 31, 29, 31, 35, 30, 29, 31, 34, 30, 29, 23, 41, 32, 20, 30, 29, 34, 34, 29, 30, 31, 30, 30, 30, 33, 33, 26, 39, 12, 25, 19, 32, 30, 35, 28, 35, 33, 23, 33, 35, 36, 30, 38, 33, 41, 34, 35, 31, 33, 23, 30, 30, 36, 27, 32, 29, 34, 35, 41, 33, 31, 33, 29, 32, 32, 31, 31, 31, 34])\n",
    "# query_sequence: 'TTTTCAAACAGTATCTATGCCTGCCAAATGTGAACATATAAAAAAAAACCAGAATGTGCCATTCTGATTTAAACTG'\n",
    "# reference_end: 9483324\n",
    "# reference_id: 20\n",
    "# reference_length: 76\n",
    "# reference_name: '21'\n",
    "# reference_start: 9483248\n",
    "# rlen: 76\n",
    "# rname: 20\n",
    "# rnext: 20\n",
    "# seq: 'TTTTCAAACAGTATCTATGCCTGCCAAATGTGAACATATAAAAAAAAACCAGAATGTGCCATTCTGATTTAAACTG'\n",
    "# tags: [('XA', 'GL000217.1,-110754,76M,1;'), ('BD', 'NNNNNNNNNNNNNNNNNNNN...NNNNNNNNNN'), ('MD', '76'), ('RG', '1'), ('BI', 'NNNNNNNNNNNNNNNNNNNN...NNNNNNNNNN'), ('NM', 0), ('MQ', 27), ('AS', 76), ('XS', 71)]\n",
    "# template_length: 209\n",
    "# tid: 20\n",
    "# tlen: 209"
   ]
  },
  {
   "attachments": {},
   "cell_type": "markdown",
   "metadata": {},
   "source": [
    "___\n",
    "2.\n"
   ]
  },
  {
   "cell_type": "code",
   "execution_count": 6,
   "metadata": {},
   "outputs": [
    {
     "name": "stdout",
     "output_type": "stream",
     "text": [
      "Reads: 2921629\n",
      "Unmapped reads: 17765\n",
      "Reads with mapping quality 0: 108863\n",
      "Average mapping quality: 55.91379158681681\n",
      "Average mapping quality for reads with quality >0: 58.446975510921106\n"
     ]
    }
   ],
   "source": [
    "import pysam\n",
    "alignfile = pysam.AlignmentFile(\"resrc/merged-tumor.bam\", \"rb\")\n",
    "\n",
    "cnt_read = 0\n",
    "cnt_unmapped = 0\n",
    "cnt_quality0 = 0\n",
    "sum_quality = 0\n",
    "\n",
    "\n",
    "for read in alignfile.fetch(until_eof=True):\n",
    "    cnt_read += 1\n",
    "\n",
    "    if read.is_unmapped:\n",
    "        cnt_unmapped += 1\n",
    "    else:\n",
    "        sum_quality += read.mapping_quality\n",
    "        if read.mapping_quality == 0:\n",
    "            cnt_quality0 += 1\n",
    "\n",
    "\n",
    "print(f\"Reads: {cnt_read}\")\n",
    "print(f\"Unmapped reads: {cnt_unmapped}\")\n",
    "print(f\"Reads with mapping quality 0: {cnt_quality0}\")\n",
    "print(f\"Average mapping quality: {sum_quality/cnt_read}\")\n",
    "print(f\"Average mapping quality for reads with quality >0: {sum_quality/(cnt_read - cnt_unmapped - cnt_quality0)}\")\n",
    "\n",
    "\n",
    "alignfile.close()"
   ]
  }
 ],
 "metadata": {
  "kernelspec": {
   "display_name": "vProjects",
   "language": "python",
   "name": "python3"
  },
  "language_info": {
   "codemirror_mode": {
    "name": "ipython",
    "version": 3
   },
   "file_extension": ".py",
   "mimetype": "text/x-python",
   "name": "python",
   "nbconvert_exporter": "python",
   "pygments_lexer": "ipython3",
   "version": "3.8.10"
  },
  "orig_nbformat": 4
 },
 "nbformat": 4,
 "nbformat_minor": 2
}
